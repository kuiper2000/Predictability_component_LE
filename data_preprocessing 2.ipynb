{
 "cells": [
  {
   "cell_type": "code",
   "execution_count": 12,
   "id": "6eed861c-115a-4dcd-9faa-8a4af2c52dcd",
   "metadata": {},
   "outputs": [],
   "source": [
    "import xarray as xr\n",
    "import numpy as np\n",
    "import pandas as pd\n",
    "from scipy.ndimage import convolve1d\n",
    "from scipy.fft import fft2, ifft2, fftfreq\n",
    "import matplotlib.pyplot as plt"
   ]
  },
  {
   "cell_type": "code",
   "execution_count": 60,
   "id": "68f712aa-19e6-4451-bbf6-8902bbf05cd1",
   "metadata": {},
   "outputs": [],
   "source": [
    "sample_nc = xr.open_dataset(\"/Dellwork9/cwubchil/Reanalysis/ERA5/v/v850_2001.nc\")"
   ]
  },
  {
   "cell_type": "code",
   "execution_count": 11,
   "id": "176618f5-bea7-4303-af62-6c5afbae4b47",
   "metadata": {},
   "outputs": [
    {
     "name": "stdout",
     "output_type": "stream",
     "text": [
      "2008 7 4\n"
     ]
    }
   ],
   "source": [
    "# Merge u/v-winds for S2S reforecast\n",
    "\n",
    "for year in np.arange(2001,2020+1):\n",
    "    for month in np.arange(5,9+1):\n",
    "        for ens in np.arange(1,10+1):\n",
    "            print(year, month, ens)\n",
    "            u_nc = xr.open_dataset(\"/Dellwork9/cwubchil/S2S_Data/ECMWF/u/u_\"+str(year)+str(month).zfill(2)+\"_ens\"+str(ens).zfill(2)+\".nc\")\n",
    "            v_nc = xr.open_dataset(\"/Dellwork9/cwubchil/S2S_Data/ECMWF/v/v_\"+str(year)+str(month).zfill(2)+\"_ens\"+str(ens).zfill(2)+\".nc\")\n",
    "            u850 = u_nc[\"u\"].sel({\"isobaricInhPa\":850})\n",
    "            v850 = v_nc[\"v\"].sel({\"isobaricInhPa\":850})\n",
    "            uv_850 = xr.merge([u850, v850])\n",
    "            uv_850.to_netcdf(\"/Dellwork9/cwubchil/S2S_Data/ECMWF/uv/uv850_\"+str(year)+str(month).zfill(2)+\"_ens\"+str(ens).zfill(2)+\".nc\")\n",
    "            u_nc.close()\n",
    "            v_nc.close()"
   ]
  },
  {
   "cell_type": "code",
   "execution_count": 3,
   "id": "992963cd-1ffe-4f6d-acbd-951198f7f0b4",
   "metadata": {},
   "outputs": [],
   "source": [
    "# Merge u/v-winds for ERA5\n",
    "\n",
    "for year in np.arange(2001,2020+1):\n",
    "    u_nc = xr.open_dataset(\"/Dellwork9/cwubchil/Reanalysis/ERA5/u/u850_\"+str(year)+\".nc\")\n",
    "    v_nc = xr.open_dataset(\"/Dellwork9/cwubchil/Reanalysis/ERA5/v/v850_\"+str(year)+\".nc\")\n",
    "    uv_850 = xr.merge([u_nc, v_nc], compat='override', join='override')\n",
    "    uv_850.to_netcdf(\"/Dellwork9/cwubchil/Reanalysis/ERA5/uv/uv850_\"+str(year)+\".nc\")\n",
    "    u_nc.close()\n",
    "    v_nc.close()"
   ]
  },
  {
   "cell_type": "code",
   "execution_count": 61,
   "id": "c10cbce2-e9f7-4ed4-8956-be8ad9cbdeca",
   "metadata": {},
   "outputs": [],
   "source": [
    "lat = sample_nc[\"lat\"]\n",
    "lon = sample_nc[\"lon\"]"
   ]
  },
  {
   "cell_type": "code",
   "execution_count": 123,
   "id": "bf46a96a-cea0-480a-b938-b175fca874ec",
   "metadata": {},
   "outputs": [],
   "source": [
    "# Low-level u/v-winds\n",
    "\n",
    "v_full = []\n",
    "\n",
    "for year in np.arange(2001,2020+1):\n",
    "    year_dates = pd.date_range(str(year)+\"-01-01\", str(year)+\"-12-31\")\n",
    "    v_nc = xr.open_dataset(\"/Dellwork9/cwubchil/Reanalysis/ERA5/v/v850_\"+str(year)+\".nc\")\n",
    "    v_full.append(np.array(v_nc[\"v\"]))\n",
    "    \n",
    "u_full = []\n",
    "\n",
    "for year in np.arange(2001,2020+1):\n",
    "    year_dates = pd.date_range(str(year)+\"-01-01\", str(year)+\"-12-31\")\n",
    "    u_nc = xr.open_dataset(\"/Dellwork9/cwubchil/Reanalysis/ERA5/u/u850_\"+str(year)+\".nc\")\n",
    "    u_full.append(np.array(u_nc[\"u\"]))"
   ]
  },
  {
   "cell_type": "code",
   "execution_count": 241,
   "id": "c9882211-9656-48f6-9887-87982d37949c",
   "metadata": {},
   "outputs": [],
   "source": [
    "v_full_arr = np.concatenate(v_full, axis=0)\n",
    "u_full_arr = np.concatenate(u_full, axis=0)"
   ]
  },
  {
   "cell_type": "code",
   "execution_count": 263,
   "id": "ae34ec54-4678-4cfd-99f4-4667899fd9bc",
   "metadata": {},
   "outputs": [],
   "source": [
    "# Upper-level u/v-winds\n",
    "\n",
    "v_full_upper = []\n",
    "\n",
    "for year in np.arange(2001,2020+1):\n",
    "    year_dates = pd.date_range(str(year)+\"-01-01\", str(year)+\"-12-31\")\n",
    "    #start_dates_ind = np.where(str(year)+\"-05-01\" == year_dates)[0][0]\n",
    "    v_upper_nc = xr.open_dataset(\"/Dellwork9/cwubchil/Reanalysis/ERA5/v/v250_\"+str(year)+\".nc\")\n",
    "    #v_full.append(np.array(v_nc[\"v\"].sel({\"lat\": lat_eq})))\n",
    "    v_full_upper.append(np.array(v_upper_nc[\"v\"]))\n",
    "\n",
    "u_full_upper = []\n",
    "\n",
    "for year in np.arange(2001,2020+1):\n",
    "    year_dates = pd.date_range(str(year)+\"-01-01\", str(year)+\"-12-31\")\n",
    "    #start_dates_ind = np.where(str(year)+\"-05-01\" == year_dates)[0][0]\n",
    "    u_upper_nc = xr.open_dataset(\"/Dellwork9/cwubchil/Reanalysis/ERA5/u/u250_\"+str(year)+\".nc\")\n",
    "    #v_full.append(np.array(v_nc[\"v\"].sel({\"lat\": lat_eq})))\n",
    "    u_full_upper.append(np.array(u_upper_nc[\"u\"]))\n",
    "\n",
    "v_full_upper_arr = np.concatenate(v_full_upper, axis=0)\n",
    "u_full_upper_arr = np.concatenate(u_full_upper, axis=0)"
   ]
  },
  {
   "cell_type": "code",
   "execution_count": 126,
   "id": "bf0d74f5-ff46-4ea3-9715-dbfae8da15eb",
   "metadata": {},
   "outputs": [
    {
     "name": "stderr",
     "output_type": "stream",
     "text": [
      "/tmp/ipykernel_15605/1182738989.py:3: RuntimeWarning: divide by zero encountered in divide\n",
      "  P = 1/w\n"
     ]
    }
   ],
   "source": [
    "k = fftfreq(v_full_arr.shape[2], 1/v_full_arr.shape[2])\n",
    "w = fftfreq(v_full_arr.shape[0])\n",
    "P = 1/w\n",
    "k_mesh, P_mesh = np.meshgrid(k, P)"
   ]
  },
  {
   "cell_type": "code",
   "execution_count": 128,
   "id": "0cbbea6b-e18f-48d0-9390-320f4b27a0e2",
   "metadata": {},
   "outputs": [],
   "source": [
    "# Wavenumber-Frequency Filtering for MRG-TD v-winds\n",
    "\n",
    "k_lr = (0 <= k_mesh) & (k_mesh <= 14)\n",
    "P_lr = (2.5 <= P_mesh) & (P_mesh <= 10)\n",
    "k_ul = (0 >= k_mesh) & (k_mesh >= -14)\n",
    "P_ul = (-2.5 >= P_mesh) & (P_mesh >= -10)"
   ]
  },
  {
   "cell_type": "code",
   "execution_count": 129,
   "id": "377985ea-abd7-4852-b39f-ea94440a0246",
   "metadata": {},
   "outputs": [],
   "source": [
    "v_full_arr_detrend = v_full_arr - np.mean(v_full_arr)\n",
    "v_full_arr_fft = fft2(v_full_arr_detrend, axes=(0,2))\n",
    "v_full_arr_fft_filtered = np.where(((k_lr & P_lr) | (k_ul & P_ul))[:,None,:], v_full_arr_fft, 0)\n",
    "v_full_arr_filtered = np.real(ifft2(v_full_arr_fft_filtered, axes=(0,2)))"
   ]
  },
  {
   "cell_type": "code",
   "execution_count": 162,
   "id": "9e2ab7d9-1db7-4078-982b-287d1e937689",
   "metadata": {},
   "outputs": [],
   "source": [
    "v_full_arr_filtered_nc = xr.DataArray(data=v_full_arr_filtered, coords={\"time\": pd.date_range(\"2001-01-01\", \"2020-12-31\"), \"lat\":sample_nc[\"lat\"], \"lon\":sample_nc[\"lon\"]}, name=\"v_MRG_TD\")\n",
    "v_full_arr_filtered_nc.to_netcdf(\"v_full_arr_filtered.nc\")"
   ]
  },
  {
   "cell_type": "code",
   "execution_count": 165,
   "id": "bc0d6b6f-699d-4734-80e1-3c47c135620b",
   "metadata": {},
   "outputs": [],
   "source": [
    "# Vorticity\n",
    "\n",
    "svo_full = []\n",
    "\n",
    "for year in np.arange(2001,2020+1):\n",
    "    year_dates = pd.date_range(str(year)+\"-01-01\", str(year)+\"-12-31\")\n",
    "    uv_nc = xr.open_dataset(\"/Dellwork9/cwubchil/Reanalysis/ERA5/uv/dv850_\"+str(year)+\".nc\")\n",
    "    svo_full.append(np.array(uv_nc[\"svo\"]))"
   ]
  },
  {
   "cell_type": "code",
   "execution_count": 168,
   "id": "ace5ae08-c5c2-4c32-8c37-1cbe457613ac",
   "metadata": {},
   "outputs": [],
   "source": [
    "svo_full_arr = np.concatenate(svo_full, axis=0)"
   ]
  },
  {
   "cell_type": "code",
   "execution_count": 184,
   "id": "38adfb01-c6b0-4ff3-b6f4-fa12dcb11435",
   "metadata": {},
   "outputs": [
    {
     "name": "stderr",
     "output_type": "stream",
     "text": [
      "/tmp/ipykernel_15605/3989583575.py:3: RuntimeWarning: divide by zero encountered in divide\n",
      "  P = 1/w\n"
     ]
    }
   ],
   "source": [
    "k = fftfreq(svo_full_arr.shape[2], 1/svo_full_arr.shape[2])\n",
    "w = fftfreq(svo_full_arr.shape[0])\n",
    "P = 1/w\n",
    "k_mesh, P_mesh = np.meshgrid(k, P)"
   ]
  },
  {
   "cell_type": "code",
   "execution_count": 186,
   "id": "ae81a69d-0814-442c-a9d9-932f3b6d2735",
   "metadata": {},
   "outputs": [],
   "source": [
    "# Wavenumber-Frequency Filtering for ERW Vorticity\n",
    "\n",
    "k_lr = (1 <= k_mesh) & (k_mesh <= 10)\n",
    "P_lr = (10 <= P_mesh) & (P_mesh <= 40)\n",
    "k_ul = (-1 >= k_mesh) & (k_mesh >= -10)\n",
    "P_ul = (-10 >= P_mesh) & (P_mesh >= -40)"
   ]
  },
  {
   "cell_type": "code",
   "execution_count": 181,
   "id": "3d2de64f-ade9-4269-be0c-12727008ba76",
   "metadata": {},
   "outputs": [],
   "source": [
    "svo_full_arr_detrend = svo_full_arr - np.mean(svo_full_arr)\n",
    "svo_full_arr_fft = fft2(svo_full_arr_detrend, axes=(0,2))\n",
    "svo_full_arr_fft_filtered = np.where(((k_lr & P_lr) | (k_ul & P_ul))[:,None,:], svo_full_arr_fft, 0)\n",
    "svo_full_arr_filtered = np.real(ifft2(svo_full_arr_fft_filtered, axes=(0,2)))"
   ]
  },
  {
   "cell_type": "code",
   "execution_count": 199,
   "id": "55129c0a-f0d8-4bea-b903-06d40e4a77c1",
   "metadata": {},
   "outputs": [],
   "source": [
    "svo_full_arr_filtered_nc = xr.DataArray(data=svo_full_arr_filtered, coords={\"time\": pd.date_range(\"2001-01-01\", \"2020-12-31\"), \"lat\": np.array(uv_nc[\"latitude\"]), \"lon\": np.array(uv_nc[\"longitude\"])}, name=\"vort_RW\")\n",
    "svo_full_arr_filtered_nc.to_netcdf(\"svo_full_arr_filtered.nc\")"
   ]
  },
  {
   "cell_type": "code",
   "execution_count": 9,
   "id": "780cd439-c097-4a7c-92f7-80c43614921b",
   "metadata": {},
   "outputs": [],
   "source": [
    "def low_pass_weights(window, cutoff):\n",
    "    \n",
    "    \"\"\"\n",
    "    Calculate weights for a low pass Lanczos filter.\n",
    "    https://github.com/liv0505/Lanczos-Filter/blob/master/lanczosbp.py\n",
    "    Args:\n",
    "\n",
    "    window: int\n",
    "        The length of the filter window.\n",
    "\n",
    "    cutoff: float\n",
    "        The cutoff frequency in inverse time steps.\n",
    "    \"\"\"\n",
    "\n",
    "    order = ((window - 1) // 2 ) + 1\n",
    "    nwts = 2 * order + 1\n",
    "    w = np.zeros([nwts])\n",
    "    n = nwts // 2\n",
    "    w[n] = 2 * cutoff\n",
    "    k = np.arange(1., n)\n",
    "    sigma = np.sin(np.pi * k / n) * n / (np.pi * k)\n",
    "    firstfactor = np.sin(2. * np.pi * cutoff * k) / (np.pi * k)\n",
    "    w[n-1:0:-1] = firstfactor * sigma\n",
    "    w[n+1:-1] = firstfactor * sigma\n",
    "    return w[1:-1]\n",
    "\n",
    "# Lanczos Filtering of Vorticity and moisture"
   ]
  },
  {
   "cell_type": "code",
   "execution_count": 10,
   "id": "2fa3acb4-e958-4508-a774-9d9ede08bc01",
   "metadata": {},
   "outputs": [],
   "source": [
    "lfw = low_pass_weights(48, 1/14)\n",
    "svo_full_arr_lanczos = convolve1d(svo_full_arr, weights=lfw, axis=0, mode=\"wrap\")"
   ]
  },
  {
   "cell_type": "code",
   "execution_count": 237,
   "id": "da91019e-5534-48e2-8510-ac857610270f",
   "metadata": {},
   "outputs": [],
   "source": [
    "svo_full_arr_lanczos_nc = xr.DataArray(data=svo_full_arr_lanczos, coords={\"time\": pd.date_range(\"2001-01-01\", \"2020-12-31\"), \"lat\": np.array(uv_nc[\"latitude\"]), \"lon\": np.array(uv_nc[\"longitude\"])}, name=\"vort_lanczos\")\n",
    "svo_full_arr_lanczos_nc.to_netcdf(\"svo_full_arr_lanczos.nc\")"
   ]
  },
  {
   "cell_type": "code",
   "execution_count": 242,
   "id": "0f1b5d32-262f-4a20-b433-5f82961631a7",
   "metadata": {},
   "outputs": [],
   "source": [
    "v_full_arr_lanczos = convolve1d(v_full_arr, weights=lfw, axis=0, mode=\"wrap\")\n",
    "u_full_arr_lanczos = convolve1d(u_full_arr, weights=lfw, axis=0, mode=\"wrap\")"
   ]
  },
  {
   "cell_type": "code",
   "execution_count": 267,
   "id": "bb107451-6ced-4ad2-8839-69c3174f49ca",
   "metadata": {},
   "outputs": [],
   "source": [
    "v_full_upper_arr_lanczos = convolve1d(v_full_upper_arr, weights=lfw, axis=0, mode=\"wrap\")\n",
    "u_full_upper_arr_lanczos = convolve1d(u_full_upper_arr, weights=lfw, axis=0, mode=\"wrap\")"
   ]
  },
  {
   "cell_type": "code",
   "execution_count": 269,
   "id": "f4786e45-2aee-4857-8476-a78f7ac88ee2",
   "metadata": {},
   "outputs": [],
   "source": [
    "wind_shear_lanczos = np.sqrt((v_full_upper_arr_lanczos - v_full_arr_lanczos)**2 + (u_full_upper_arr_lanczos - u_full_arr_lanczos)**2)"
   ]
  },
  {
   "cell_type": "code",
   "execution_count": 273,
   "id": "68c8ffdb-7326-4a40-a9eb-5d4fc077b849",
   "metadata": {},
   "outputs": [],
   "source": [
    "wind_shear_lanczos_nc = xr.DataArray(data=wind_shear_lanczos, coords={\"time\": pd.date_range(\"2001-01-01\", \"2020-12-31\"), \"lat\": np.array(v_nc[\"lat\"]), \"lon\": np.array(v_nc[\"lon\"])}, name=\"wind_shear\")\n",
    "wind_shear_lanczos_nc.to_netcdf(\"wind_shear.nc\")"
   ]
  },
  {
   "cell_type": "code",
   "execution_count": 4,
   "id": "6a57f6b8-6e8f-4c29-a675-077122c180d6",
   "metadata": {},
   "outputs": [],
   "source": [
    "q_full = []\n",
    "\n",
    "for year in np.arange(2001,2020+1):\n",
    "    year_dates = pd.date_range(str(year)+\"-01-01\", str(year)+\"-12-31\")\n",
    "    #start_dates_ind = np.where(str(year)+\"-05-01\" == year_dates)[0][0]\n",
    "    q_nc = xr.open_dataset(\"/Dellwork9/cwubchil/Reanalysis/ERA5/q/q700_\"+str(year)+\".nc\")\n",
    "    #v_full.append(np.array(v_nc[\"v\"].sel({\"lat\": lat_eq})))\n",
    "    q_full.append(np.array(q_nc[\"q\"]))"
   ]
  },
  {
   "cell_type": "code",
   "execution_count": 6,
   "id": "e3137b95-bf95-4514-83b2-8d29bcc58dd8",
   "metadata": {},
   "outputs": [],
   "source": [
    "q_full_arr = np.concatenate(q_full, axis=0)"
   ]
  },
  {
   "cell_type": "code",
   "execution_count": 11,
   "id": "7301623c-bb5a-4cf9-9567-18e4969a4e66",
   "metadata": {},
   "outputs": [],
   "source": [
    "q_full_arr_lanczos = convolve1d(q_full_arr, weights=lfw, axis=0, mode=\"wrap\")"
   ]
  },
  {
   "cell_type": "code",
   "execution_count": 15,
   "id": "a2535363-fc1f-4e22-9d88-1abe036c5f93",
   "metadata": {},
   "outputs": [],
   "source": [
    "q_lanczos_nc = xr.DataArray(data=q_full_arr_lanczos, coords={\"time\": pd.date_range(\"2001-01-01\", \"2020-12-31\"), \"lat\": np.array(q_nc[\"lat\"]), \"lon\": np.array(q_nc[\"lon\"])}, name=\"q\")\n",
    "q_lanczos_nc.to_netcdf(\"q_lanczos.nc\")"
   ]
  }
 ],
 "metadata": {
  "kernelspec": {
   "display_name": "Python 3 (ipykernel)",
   "language": "python",
   "name": "python3"
  },
  "language_info": {
   "codemirror_mode": {
    "name": "ipython",
    "version": 3
   },
   "file_extension": ".py",
   "mimetype": "text/x-python",
   "name": "python",
   "nbconvert_exporter": "python",
   "pygments_lexer": "ipython3",
   "version": "3.10.14"
  }
 },
 "nbformat": 4,
 "nbformat_minor": 5
}
